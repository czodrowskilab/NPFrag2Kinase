{
 "cells": [
  {
   "cell_type": "markdown",
   "metadata": {},
   "source": [
    "# Approved Protein Kinase Inhibitors (PKIs)\n",
    "This [overview](https://klifs.net/drugs.php#) is powered by KLIFS in-house annotations and is complemented with data from the [PKIDB](https://www.icoa.fr/pkidb/)"
   ]
  },
  {
   "cell_type": "code",
   "execution_count": null,
   "metadata": {},
   "outputs": [],
   "source": [
    "# General python libraries and packages\n",
    "import numpy as np\n",
    "import pandas as pd\n",
    "import os\n",
    "\n",
    "# Accessing Databases\n",
    "import requests\n",
    "\n",
    "# Processing chemical data\n",
    "from rdkit.Chem import Draw, PandasTools"
   ]
  },
  {
   "cell_type": "code",
   "execution_count": null,
   "metadata": {},
   "outputs": [],
   "source": [
    "# Send a GET request to the API endpoint to retrieve the drug list\n",
    "response = requests.get('https://klifs.net/api_v2/drug_list')\n",
    "\n",
    "# Parse the JSON response from the API into a Python dictionary and convert the dictionary to a pandas dataframe\n",
    "df= pd.DataFrame(response.json())\n",
    "\n",
    "print(len(df))\n",
    "df.head(1)"
   ]
  },
  {
   "cell_type": "code",
   "execution_count": null,
   "metadata": {},
   "outputs": [],
   "source": [
    "# Replace any empty strings by NaN values\n",
    "df = df.replace('', np.nan, regex=True)\n",
    "\n",
    "# In the Synonyms column, replace any \\t characters with a semicolon\n",
    "df['Synonyms'] = df['Synonyms'].str.replace('\\t', ';  ')\n",
    "\n",
    "def extract_comment_from_numeric_col(df, column_name):\n",
    "    '''Separate values in a column into a numeric part and a string (comment) part.'''\n",
    "    # Convert the specified column to a numeric type, replacing any non-numeric values with NaN\n",
    "    df[f'{column_name}_Numeric'] = pd.to_numeric(df[column_name], errors='coerce')\n",
    "    # Create a new column for the comments, replacing any numeric values with NaN\n",
    "    df[f'{column_name}_Comment'] = np.where(df[f'{column_name}_Numeric'].isna(), df[column_name], np.nan)\n",
    "    # Replace the original column with the numeric column\n",
    "    df[column_name] = df[f'{column_name}_Numeric']\n",
    "    # Drop the numeric column, since it has been replaced with the original column\n",
    "    df = df.drop(f'{column_name}_Numeric', axis=1)\n",
    "    # Return the modified DataFrame\n",
    "    return df\n",
    "\n",
    "# Apply the function to the column 'Phase' and 'Approval'\n",
    "df = extract_comment_from_numeric_col(df, 'Phase')\n",
    "df = extract_comment_from_numeric_col(df, 'Approval')\n"
   ]
  },
  {
   "cell_type": "code",
   "execution_count": null,
   "metadata": {},
   "outputs": [],
   "source": [
    "df = df.rename(columns={'INN'              : 'Drug_Name', \n",
    "                        'Brand Name'       : 'Brand_Name',\n",
    "                        'ChEMBL'           : 'ChEMBL_Molecule_ID', \n",
    "                        'PDB'              : 'PDB_Ligand_ID'})"
   ]
  },
  {
   "cell_type": "markdown",
   "metadata": {},
   "source": [
    "## Filter for approved drugs only"
   ]
  },
  {
   "cell_type": "code",
   "execution_count": null,
   "metadata": {},
   "outputs": [],
   "source": [
    "# How many PKIS per clinical phase?\n",
    "# df['Phase'].value_counts()\n",
    "\n",
    "# Filter for approved drugs, i.e. drugs in phase IV, only\n",
    "df = df[df['Phase'] == 4.0]\n",
    "\n",
    "# Drop the Phase_Comment column\n",
    "df = df.drop(columns=['Phase_Comment'])"
   ]
  },
  {
   "cell_type": "markdown",
   "metadata": {},
   "source": [
    "## Sort by the Year of First Approval"
   ]
  },
  {
   "cell_type": "code",
   "execution_count": null,
   "metadata": {},
   "outputs": [],
   "source": [
    "# Join the information from the two columns together as strings, ignoring NaN values\n",
    "df['Approval'] = df['Approval'].fillna('').astype(str).str.replace(r'\\.0$', '', regex=True) + ' ' + df['Approval_Comment'].fillna('').astype(str)\n",
    "\n",
    "# Drop the original Approval_Comment column\n",
    "df = df.drop(columns=['Approval_Comment'])\n",
    "\n",
    "# Sort the dataframe by the year of approval, with the help of a temporary column\n",
    "df['Year_Of_First_Approval'] = df['Approval'].str.extract('(\\d{4})', expand=False).astype(int)\n",
    "df = df.sort_values('Year_Of_First_Approval', ascending=False)\n",
    "df = df.drop('Year_Of_First_Approval', axis=1)\n",
    "df = df.reset_index(drop=True)\n",
    "\n",
    "# Save to file\n",
    "filepath = os.path.join('Data', 'KLIFS_PKIs')\n",
    "filename = os.path.join(filepath, 'KLIFS_Approved_PKIs.xlsx')\n",
    "df.to_excel(filename, index=False)\n",
    "\n",
    "df.head(1)"
   ]
  },
  {
   "cell_type": "markdown",
   "metadata": {},
   "source": [
    "## Cross-References to ChEMBL and the PDB"
   ]
  },
  {
   "cell_type": "code",
   "execution_count": null,
   "metadata": {},
   "outputs": [],
   "source": [
    "# How many values in the PDB column are not NaN?\n",
    "print(df['PDB_Ligand_ID'].notnull().sum())"
   ]
  },
  {
   "cell_type": "code",
   "execution_count": null,
   "metadata": {},
   "outputs": [],
   "source": [
    "# How many values in the ChEMBL column are not NaN?\n",
    "print(df['ChEMBL_Molecule_ID'].notnull().sum())"
   ]
  },
  {
   "cell_type": "code",
   "execution_count": null,
   "metadata": {},
   "outputs": [],
   "source": [
    "print(len(df))"
   ]
  },
  {
   "cell_type": "markdown",
   "metadata": {},
   "source": [
    "## Add PDB Ligand ID "
   ]
  },
  {
   "cell_type": "code",
   "execution_count": null,
   "metadata": {},
   "outputs": [],
   "source": [
    "# Created on Oct-10 from http://dunbrack.fccc.edu/kincore/FDA\n",
    "pdb_lig_id_df = pd.read_excel(os.path.join(filepath, 'PKIs_PDB_Structures.xlsx'))\n",
    "kinase_labels = pd.read_csv(os.path.join(filepath, 'KinCore_Results_All.tab'), sep='\\t')\n",
    "\n",
    "#  Split the string in the Ligand column by space character and extract the first three letters of each substring\n",
    "kinase_labels['PDB_Lig_ID'] = kinase_labels['Ligand'].apply(lambda x: [i[:3] for i in x.split(' ') if i != 'No_ligand'])\n",
    "# Explode to one row per Ligand\n",
    "kinase_labels = kinase_labels.explode('PDB_Lig_ID').reset_index(drop=True)\n",
    "# Drop lines, for which the PDB_ID is NaN\n",
    "kinase_labels = kinase_labels[kinase_labels['PDB_Lig_ID'].notna()].reset_index(drop=True)\n",
    "\n",
    "# Merge based on the PDB Ligand ID \n",
    "pdb_lig_id_df = pd.merge(pdb_lig_id_df, kinase_labels, on='PDB_Lig_ID')\n",
    "\n",
    "# Group by the Lig_Name\n",
    "pdb_lig_id_df_grouped = pdb_lig_id_df.groupby('Drug_Name').agg({\n",
    "    'Drug_Name' : 'first', \n",
    "    **{col: list for col in pdb_lig_id_df.columns.to_list() if col not in ['Drug_Name']}, \n",
    "    }).reset_index(drop=True)\n",
    "\n",
    "pdb_lig_id_df_grouped.to_excel(os.path.join(filepath, 'PKIs_PDB_Structures_Kincore_Results.xlsx'), index=False)\n",
    "\n",
    "# Merge with df \n",
    "df = pd.merge(df, pdb_lig_id_df_grouped, on='Drug_Name', how='left')\n",
    "df.to_excel(filename, index=False)\n",
    "\n",
    "df.head(2)"
   ]
  },
  {
   "cell_type": "markdown",
   "metadata": {},
   "source": [
    "## Add Molecular Structures"
   ]
  },
  {
   "cell_type": "code",
   "execution_count": null,
   "metadata": {},
   "outputs": [],
   "source": [
    "PandasTools.AddMoleculeColumnToFrame(df, smilesCol=\"SMILES\")\n",
    "PandasTools.RenderImagesInAllDataFrames(True)\n",
    "df"
   ]
  },
  {
   "cell_type": "code",
   "execution_count": null,
   "metadata": {},
   "outputs": [],
   "source": []
  }
 ],
 "metadata": {
  "kernelspec": {
   "display_name": "chemspace",
   "language": "python",
   "name": "python3"
  },
  "language_info": {
   "codemirror_mode": {
    "name": "ipython",
    "version": 3
   },
   "file_extension": ".py",
   "mimetype": "text/x-python",
   "name": "python",
   "nbconvert_exporter": "python",
   "pygments_lexer": "ipython3",
   "version": "3.10.13"
  }
 },
 "nbformat": 4,
 "nbformat_minor": 2
}
