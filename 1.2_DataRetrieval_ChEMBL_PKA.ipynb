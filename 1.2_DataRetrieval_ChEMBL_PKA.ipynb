{
 "cells": [
  {
   "cell_type": "code",
   "execution_count": null,
   "metadata": {},
   "outputs": [],
   "source": [
    "# General python libraries and packages\n",
    "import pandas as pd\n",
    "import numpy as np\n",
    "from tqdm.auto import tqdm\n",
    "import re \n",
    "import datetime\n",
    "date = datetime.date.today()\n",
    "import os\n",
    "\n",
    "# Data Visualization\n",
    "import matplotlib.pyplot as plt\n",
    "import seaborn as sns\n",
    "\n",
    "# Processing chemical data\n",
    "from rdkit import Chem\n",
    "from rdkit.Chem import PandasTools, Draw, Descriptors"
   ]
  },
  {
   "cell_type": "markdown",
   "metadata": {},
   "source": [
    "# Dataset Generation"
   ]
  },
  {
   "cell_type": "markdown",
   "metadata": {},
   "source": [
    "Subset the dataset of all kinases for PKA "
   ]
  },
  {
   "cell_type": "code",
   "execution_count": null,
   "metadata": {},
   "outputs": [],
   "source": [
    "ec_number= '2.7.11.11'"
   ]
  },
  {
   "cell_type": "code",
   "execution_count": null,
   "metadata": {},
   "outputs": [],
   "source": [
    "# Per definition, the molecule annotated for PKA is a subset of the ones annotated for all protein kinases! \n",
    "# Thus, we filter can simply filter the latter!\n",
    "df = pd.read_excel(os.path.join('Data', os.path.join('ChEMBL_Kinases', \"ChEMBL_AllKinases_Molecule_Data.xlsx\"))) \n",
    "\n",
    "# Filter for molecules where the string in the EC_Number column comprises the substring \"2.7.11.11\"\n",
    "# The na=False parameter ensures that NaN values are treated as False, i.e., they will not be included\n",
    "df = df[df['Target_EC_Number'].str.contains(ec_number, na=False)]\n",
    "df = df.reset_index(drop=True)\n",
    "\n",
    "df.head(1)"
   ]
  },
  {
   "cell_type": "markdown",
   "metadata": {},
   "source": [
    "Alternatively, if no dataset for the entire protein family is present (that can be subsetted)\n",
    "<br> Retrieve the target information from ChEMBL directly (via API), using the ec_number for filtering"
   ]
  },
  {
   "cell_type": "code",
   "execution_count": null,
   "metadata": {},
   "outputs": [],
   "source": [
    "# from chembl_webresource_client.new_client import new_client\n",
    "\n",
    "# def get_targets_by_ec_number(ec_number):\n",
    "#     targets_api = new_client.target\n",
    "#     targets = targets_api.filter(target_synonym__icontains=ec_number, target_type=\"SINGLE PROTEIN\").only(\n",
    "#         \"organism\", \"pref_name\", \"target_chembl_id\")\n",
    "#     df = pd.DataFrame.from_records(targets)\n",
    "#     df = df.rename(columns = {'organism'        : 'Target_Organism', \n",
    "#                             'pref_name'         : 'Target_Name', \n",
    "#                             'target_chembl_id'  : 'ChEMBL_Target_ID',\n",
    "#                             })\n",
    "#     print(f\"Number of single protein targets in the ChEMBL with EC Number {ec_number} = {len(df)}\")\n",
    "#     return df\n",
    "\n",
    "# df = get_targets_by_ec_number(ec_number='2.7.11.11')\n",
    "# df\n",
    "\n",
    "# # Next, conduct all the steps, from the '1_DataRetrival_ChEMBL_All_Kinases.ipynb' Notebook!"
   ]
  },
  {
   "cell_type": "markdown",
   "metadata": {},
   "source": [
    "Filter for the alpha-isoform of the catalytic subunit only "
   ]
  },
  {
   "cell_type": "code",
   "execution_count": null,
   "metadata": {},
   "outputs": [],
   "source": [
    "# Extract the subunit of PKA, namely catalytic/regulatory, using a case-insensitive pattern search\n",
    "df['Target_Protein_Subunit'] = df['Target_Name'].str.extract(r'(catalytic|regulatory)', flags=re.IGNORECASE)\n",
    "\n",
    "# Extract the isoform of the catalytic subunit of PKA, namely alpha/beta/gamma, using a case-insensitive pattern search\n",
    "df['Target_Protein_Isoform'] = df['Target_Name'].str.extract(r'(alpha|beta|gamma)', flags=re.IGNORECASE)\n",
    "\n",
    "# Filter for the alpha-isoform of the catalytic subunit only\n",
    "df = df[(df['Target_Protein_Isoform'] == 'alpha') & (df['Target_Protein_Subunit'] == 'catalytic')]\n",
    "df = df.reset_index(drop = True)\n",
    "\n",
    "# Drop helper columns and other invariant columns\n",
    "df = df.drop(columns=['Target_Protein_Isoform', 'Target_Protein_Subunit', 'Target_EC_Number', #'Target_Name',\n",
    "                      'Target_Protein_Class_Name', 'Kinase_Group', 'Kinase_Family', 'Kinase_Subfamily', ])\n",
    "\n",
    "# Save to file\n",
    "PKA_path = os.path.join('Data', 'ChEMBL_PKA')\n",
    "df.to_excel(os.path.join(PKA_path, 'ChEMBL_PKA_Molecule_Data.xlsx'), index=False)\n",
    "\n",
    "# Print some \"statistics\"\n",
    "print(f\"Number of different target proteins, after filtering for the alpha-isoform of the catalytic subunit only = {len(df['ChEMBL_Target_ID'].unique())}\")\n",
    "print(f\"Target Names = {df['Target_Name'].unique()}\")\n",
    "print(f\"from organisms = {df['Target_Organism'].unique()}. \\n \")\n",
    "print(f\"Number of bioactive molecules before molecule standardization and deduplication = {len(df['ChEMBL_Molecule_ID'].unique())}\")\n",
    "\n",
    "df.head(1)"
   ]
  },
  {
   "cell_type": "markdown",
   "metadata": {},
   "source": [
    "# Group by Molecule"
   ]
  },
  {
   "cell_type": "code",
   "execution_count": null,
   "metadata": {},
   "outputs": [],
   "source": [
    "# Group the dataframe by the ChEMBL Molecule ID\n",
    "df = df.groupby(['ChEMBL_Molecule_ID']).agg({\n",
    "  'ChEMBL_Molecule_ID'  : 'first', \n",
    "  'SMILES'              : 'first', \n",
    "  'Molecule_Name'       : 'first',\n",
    "  'Molecule_Type'       : 'first', \n",
    "  'Target_Name'         : 'first', \n",
    "  **{col: list for col in df.columns.to_list() if col not in ['ChEMBL_Molecule_ID', 'SMILES', 'Molecule_Name', 'Molecule_Type']} \n",
    "  }).reset_index(drop=True)\n",
    "\n",
    "print(len(df))\n",
    "\n",
    "# Save to file\n",
    "df.to_excel(os.path.join(PKA_path, \"ChEMBL_PKA_Molecule_Data_Grouped.xlsx\"), index=False)"
   ]
  },
  {
   "cell_type": "code",
   "execution_count": null,
   "metadata": {},
   "outputs": [],
   "source": [
    "# Add molecules to dataframe\n",
    "PandasTools.AddMoleculeColumnToFrame(df, smilesCol=\"SMILES\", molCol='Structure')\n",
    "PandasTools.RenderImagesInAllDataFrames(images=True)\n",
    "\n",
    "df.head(5)"
   ]
  },
  {
   "cell_type": "markdown",
   "metadata": {},
   "source": [
    "# Plot some distributions"
   ]
  },
  {
   "cell_type": "code",
   "execution_count": null,
   "metadata": {},
   "outputs": [],
   "source": [
    "# Extract the maximal pCheMBL value reported for a given compound\n",
    "df['Max_pChEMBL_Value'] = df['pChEMBL_Value'].apply(lambda x: max(x))\n",
    "\n",
    "# Plot pIC50 value distribution \n",
    "plt.hist(df['Max_pChEMBL_Value'], bins=71, edgecolor='black')\n",
    "plt.xlabel('Max pChEMBL value for the compound towards PKA')\n",
    "plt.ylabel('Frequency')\n",
    "plt.yticks(np.arange(plt.ylim()[0], plt.ylim()[1], 1))\n",
    "# plt.savefig(\"Analysis/ChEMBL_PKA/Histogram_pChEMBL_Value_Distribution.png\")\n",
    "plt.show()"
   ]
  },
  {
   "cell_type": "code",
   "execution_count": null,
   "metadata": {},
   "outputs": [],
   "source": [
    "# Extract the maximal LE value reported for a given compound\n",
    "df['Max_Ligand_Efficiency'] = df['Ligand_Efficiency'].apply(lambda x: max(x))\n",
    "\n",
    "# Plot Ligand Efficiency value distribution \n",
    "plt.hist(df['Max_Ligand_Efficiency'], bins=71, edgecolor='black')\n",
    "plt.xlabel('Max Ligand Efficiency for the compound towards PKA.')\n",
    "plt.ylabel('Frequency')\n",
    "plt.yticks(np.arange(plt.ylim()[0], plt.ylim()[1], 1))\n",
    "# plt.savefig(\"Analysis/ChEMBL_PKA/Histogram_Ligand_Efficiency_Value_Distribution.png\")\n",
    "plt.show()"
   ]
  },
  {
   "cell_type": "code",
   "execution_count": null,
   "metadata": {},
   "outputs": [],
   "source": []
  }
 ],
 "metadata": {
  "kernelspec": {
   "display_name": "Python 3",
   "language": "python",
   "name": "python3"
  },
  "language_info": {
   "codemirror_mode": {
    "name": "ipython",
    "version": 3
   },
   "file_extension": ".py",
   "mimetype": "text/x-python",
   "name": "python",
   "nbconvert_exporter": "python",
   "pygments_lexer": "ipython3",
   "version": "3.10.13"
  }
 },
 "nbformat": 4,
 "nbformat_minor": 2
}
