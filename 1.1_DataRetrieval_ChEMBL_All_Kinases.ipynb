{
 "cells": [
  {
   "cell_type": "code",
   "execution_count": null,
   "metadata": {},
   "outputs": [],
   "source": [
    "# General python libraries and packages\n",
    "import pandas as pd\n",
    "from tqdm.auto import tqdm\n",
    "import ast\n",
    "import warnings\n",
    "warnings.filterwarnings('ignore')\n",
    "import datetime\n",
    "date = datetime.date.today()\n",
    "import os\n",
    "\n",
    "# Database Accession\n",
    "from chembl_webresource_client.new_client import new_client\n",
    "\n",
    "# Data Visualization\n",
    "import matplotlib.pyplot as plt\n",
    "\n",
    "# Processing chemical data\n",
    "from rdkit.Chem import PandasTools, Draw"
   ]
  },
  {
   "cell_type": "markdown",
   "metadata": {},
   "source": [
    "# Identify targets of interest "
   ]
  },
  {
   "cell_type": "code",
   "execution_count": null,
   "metadata": {},
   "outputs": [],
   "source": [
    "def get_single_protein_targets_from_chembl(xref_filter=None, eukaryotic_only=False):\n",
    "\n",
    "    \"\"\"\n",
    "    Helper Function to retrieve all single proteins from ChEMBL. \n",
    "    Optionally, filter for a cross-reference annotation, e.g. the Protein Family (Pfam) ID, \n",
    "    and/or filter for eukaryotic single proteins only.\n",
    "    \"\"\"\n",
    "\n",
    "    # New client to query the ChEMBL API for target information\n",
    "    targets_api = new_client.target\n",
    "\n",
    "    # Retrieve specified information for every single protein type target in the ChEMBL\n",
    "    df = pd.DataFrame(targets_api.filter(target_type=\"SINGLE PROTEIN\").only(\n",
    "        \"organism\", \"pref_name\", \"target_components\", \"target_chembl_id\", \"tax_id\"))\n",
    "\n",
    "    # Rename columns \n",
    "    df = df.rename(columns= {\"organism\"          : \"Target_Organism\", \n",
    "                             \"pref_name\"         : \"Target_Name\", \n",
    "                             \"target_components\" : \"Target_Components\", \n",
    "                             \"target_chembl_id\"  : \"ChEMBL_Target_ID\"})\n",
    "\n",
    "    print(f\"Number of single proteins in the ChEMBL = {len(df)}\")\n",
    "\n",
    "    # Explode the Target_Components column\n",
    "    df = df.explode(column='Target_Components')\n",
    "\n",
    "    # Extract Target_Components_XRefs\n",
    "    df['Target_Components_XRefs'] = df['Target_Components'].apply(lambda x: x.get('target_component_xrefs') if isinstance(x, dict) else None)\n",
    "    df = df.explode(column='Target_Components_XRefs')\n",
    "    df['Target_Components_XRefs'] = df['Target_Components_XRefs'].apply(lambda x: x.get('xref_id') if isinstance(x, dict) else None)\n",
    "\n",
    "    # Optionally filter by an ID from a cross-reference (e.g. by Pfam-ID)\n",
    "    if xref_filter:\n",
    "        df = df[df['Target_Components_XRefs'] == xref_filter]\n",
    "        df = df.reset_index(drop=True)\n",
    "        print(f\"Number of single proteins after filtering for {xref_filter} = {len(df)}\")\n",
    "\n",
    "    # Extract the Target Component ID\n",
    "    df['ChEMBL_Target_Component_ID'] = df['Target_Components'].apply(lambda x: x.get('component_id') if isinstance(x, dict) else None)\n",
    "\n",
    "    # Extract the Enzyme Commission (EC) Number\n",
    "    df['Target_Component_Synonyms'] = df['Target_Components'].apply(lambda x: x.get('target_component_synonyms') if isinstance(x, dict) else None)\n",
    "    df = df.explode(column='Target_Component_Synonyms')\n",
    "    df['Target_Component_Synonyms'] = df['Target_Component_Synonyms'].apply(lambda x: x if isinstance(x, dict) and x.get('syn_type') == 'EC_NUMBER' else None)\n",
    "    df['Target_EC_Number'] = df['Target_Component_Synonyms'].apply(lambda x: x.get('component_synonym') if isinstance(x, dict) else None)\n",
    "    df['Target_EC_Number'] = df['Target_EC_Number'].astype(str).str.replace('None', '')\n",
    "\n",
    "    # Drop columns we don't need anymore\n",
    "    df = df.drop(columns=['Target_Components',  'Target_Component_Synonyms', 'Target_Components_XRefs'])\n",
    "    df = df.drop_duplicates().reset_index(drop=True)\n",
    "\n",
    "    # Group by the ChEMBL_Target_ID again\n",
    "    df = df.groupby('ChEMBL_Target_ID').agg(\n",
    "        {**{col: 'first' for col in df.columns if col not in ['Target_EC_Number']}, \n",
    "        'Target_EC_Number': lambda x: ', '.join(x.astype(str))}\n",
    "        ).reset_index(drop=True)\n",
    "    \n",
    "    \n",
    "    if eukaryotic_only == True: \n",
    "        # Retrieve the organism class name for each organism (taxonomy ID)\n",
    "        organism_api = new_client.organism\n",
    "        organism_type = organism_api.filter(\n",
    "        tax_id__in=list(df['tax_id']) \n",
    "        ).only(\"l1\", \"tax_id\") # \"class_level\"  #'parent_id'\n",
    "    \n",
    "        organism_df = pd.DataFrame.from_records(list(tqdm(organism_type)))\n",
    "        organism_df = organism_df.rename(columns={'l1' : 'Target_Organism_Class'})\n",
    "\n",
    "        # Merge dataframes\n",
    "        df = pd.merge(df, organism_df, on='tax_id', how='left')\n",
    "\n",
    "        # The actual filtering\n",
    "        df = df[df['Target_Organism_Class'] == 'Eukaryotes']\n",
    "        df = df.reset_index(drop=True)\n",
    "\n",
    "        print(f\"Number of single target proteins after filtering for 'Eukaryotes' only = {len(df)}\")\n",
    "        \n",
    "    return df"
   ]
  },
  {
   "cell_type": "code",
   "execution_count": null,
   "metadata": {},
   "outputs": [],
   "source": [
    "def get_chembl_targets(xref_filter=None, protein_class_filter=None, eukaryotic_only=False):    \n",
    "\n",
    "    \"\"\" \n",
    "    Retrieve targets from ChEMBL via API.\n",
    "    Optionally filter for a cross-reference annotation, e.g. the Protein Family (Pfam) ID, \n",
    "    and/or filter for eukaryotic single proteins only, \n",
    "    and/or filter for the protein class (e.g. protein kinases).\n",
    "    \"\"\"\n",
    "\n",
    "    df = get_single_protein_targets_from_chembl(xref_filter=xref_filter, eukaryotic_only=eukaryotic_only)\n",
    "\n",
    "    # New client to query the ChEMBL API for target component information\n",
    "    target_component_api = new_client.target_component\n",
    "\n",
    "    # Retrieve the protein classification id for the target_components from the ChEMBL\n",
    "    target_component = target_component_api.filter(\n",
    "        target_component_id__in=list(df['ChEMBL_Target_Component_ID'])\n",
    "        ).only(\"component_id\", \"protein_classifications\", \"accession\")\n",
    "\n",
    "    target_component_df = pd.DataFrame.from_records(list(tqdm(target_component)))\n",
    "\n",
    "    # Explode the protein_classifications column\n",
    "    target_component_df = target_component_df.explode(column='protein_classifications').reset_index(drop=True)\n",
    "\n",
    "    # Extract protein classification ID\n",
    "    target_component_df['protein_class_id'] = target_component_df['protein_classifications'].apply(lambda x: str(x.get('protein_classification_id')) if isinstance(x, dict) else None)\n",
    "\n",
    "    # Rename the component_id column\n",
    "    target_component_df = target_component_df.rename(columns={'component_id': 'ChEMBL_Target_Component_ID'})\n",
    "\n",
    "    df = pd.merge(df, target_component_df, on='ChEMBL_Target_Component_ID', how='left')\n",
    "\n",
    "\n",
    "    if protein_class_filter: \n",
    "        df['protein_class_id'] = df['protein_class_id'].astype(int)\n",
    "\n",
    "        # Retrieve the protein class name for each protein classification id\n",
    "        proteinclass_api = new_client.protein_classification\n",
    "        proteinclass = proteinclass_api.filter(\n",
    "            protein_classification_id__in=list(df['protein_class_id'])\n",
    "            ).only(\"protein_class_id\", \"pref_name\", \"protein_class_desc\") # \"class_level\"  #'parent_id'\n",
    "        \n",
    "        proteinclass_df = pd.DataFrame.from_records(list(tqdm(proteinclass)))\n",
    "\n",
    "        # Merge dataframes\n",
    "        df = pd.merge(df, proteinclass_df, on='protein_class_id', how='left')\n",
    "            \n",
    "        # Rename columns\n",
    "        df = df.rename(columns={'pref_name'          : 'Target_Protein_Class_Name',\n",
    "                                'protein_class_desc' : 'Target_Protein_Class_Description', \n",
    "                                'accession'          :  'UniProt_Target_ID'})\n",
    "\n",
    "        # Replace any double spaces by a ;\n",
    "        df['Target_Protein_Class_Description'] = df['Target_Protein_Class_Description'].str.replace('  ', '; ')\n",
    "\n",
    "        # Optionally filter, by the protein class description \n",
    "        df = df[df['Target_Protein_Class_Description'].str.contains(protein_class_filter)]\n",
    "        df = df.reset_index(drop=True)\n",
    "        print(f\"Number of single proteins after filtering for '{protein_class_filter}' = {len(df)}\")\n",
    "\n",
    "        # Split the protein class description into its 6 levels\n",
    "        df['Target_Protein_Class_Description'] = df['Target_Protein_Class_Description'].str.split('; ')\n",
    "        df['Target_Protein_Class_Description'] = df['Target_Protein_Class_Description'].apply(lambda x: x + [None]*(6 - len(x)) if len(x) < 6 else x)\n",
    "        df[['Target_Protein_Class_1', 'Target_Protein_Class_2', 'Target_Protein_Class_3', 'Target_Protein_Class_4', 'Target_Protein_Class_5', 'Target_Protein_Class_6']] = df['Target_Protein_Class_Description'].apply(lambda x: pd.Series(x[:6]))\n",
    "    \n",
    "    df = df.groupby('ChEMBL_Target_ID').agg({\n",
    "    'Target_Organism' :            'first', \n",
    "    'Target_Organism_Class' :      'first', \n",
    "    'Target_Name' :                'first', \n",
    "    'ChEMBL_Target_ID'           : 'first', \n",
    "    'ChEMBL_Target_Component_ID' : 'first',\n",
    "    'UniProt_Target_ID'          : 'first',\n",
    "    'Target_EC_Number'          :  'first',\n",
    "    'Target_Protein_Class_Name' :  lambda x: ', '.join(x.astype(str)),\n",
    "    'Target_Protein_Class_1'    :  lambda x: ', '.join(x.astype(str)),\n",
    "    'Target_Protein_Class_2'    :  lambda x: ', '.join(x.astype(str)),\n",
    "    'Target_Protein_Class_3'    :  lambda x: ', '.join(x.astype(str)),\n",
    "    'Target_Protein_Class_4'    :  lambda x: ', '.join(x.astype(str)),\n",
    "    'Target_Protein_Class_5'    :  lambda x: ', '.join(x.astype(str)),\n",
    "    'Target_Protein_Class_6'    :  lambda x: ', '.join(x.astype(str)),\n",
    "    }).reset_index(drop=True)\n",
    "\n",
    "    return df"
   ]
  },
  {
   "cell_type": "markdown",
   "metadata": {},
   "source": [
    "## Filters\n",
    "- **Target Type** = Single Protein; \n",
    "- Comprising the protein kinase domain (Pfam-ID = PF00069) (as annotated in the **xref**)\n",
    "- **Protein Classification** = Enzyme and Kinase;\n",
    "- **Target Organism Classification** = Eukaryotic;"
   ]
  },
  {
   "cell_type": "code",
   "execution_count": null,
   "metadata": {},
   "outputs": [],
   "source": [
    "df = get_chembl_targets(xref_filter='PF00069', \n",
    "                        protein_class_filter='enzyme; kinase; protein kinase', \n",
    "                        eukaryotic_only=True)\n",
    "\n",
    "# Drop some columns, as we used them for filtering before \n",
    "df = df.drop(columns=['Target_Organism_Class', 'Target_Protein_Class_1', 'Target_Protein_Class_2', 'Target_Protein_Class_3'])\n",
    "\n",
    "df.head(1)"
   ]
  },
  {
   "cell_type": "code",
   "execution_count": null,
   "metadata": {},
   "outputs": [],
   "source": [
    "# Protein classification level 4-6 labels correspond to kinase group/family/subfamily\n",
    "# Rename columns accordingly\n",
    "df = df.rename(columns={'Target_Protein_Class_4':'Kinase_Group', \n",
    "                        'Target_Protein_Class_5':'Kinase_Family', \n",
    "                        'Target_Protein_Class_6':'Kinase_Subfamily'})\n",
    "\n",
    "filepath = os.path.join('Data', 'ChEMBL_Kinases')\n",
    "tmp_folder = os.path.join(filepath, 'Temp')\n",
    "df.to_excel(os.path.join(tmp_folder, 'ChEMBL_Kinases_Target_Data.xlsx'), index=False)\n",
    "\n",
    "df.head(2)"
   ]
  },
  {
   "cell_type": "markdown",
   "metadata": {},
   "source": [
    "# Retrieve Bioactivities "
   ]
  },
  {
   "cell_type": "code",
   "execution_count": null,
   "metadata": {},
   "outputs": [],
   "source": [
    "def get_chembl_bioactivities(df, target_id_col):\n",
    "    \"\"\"\n",
    "    Get bioactivities for each compound in the input DataFrame and append the infos to the input DataFrame.\n",
    "\n",
    "    Parameters:\n",
    "    - df (pandas DataFrame):  Input DataFrame containing the compounds\n",
    "    - target_id_col (str):    Column name in the input DataFrame containing the ChEMBL target IDs\n",
    "\n",
    "    \"\"\"\n",
    "\n",
    "    # Create a new bioactivities API client\n",
    "    bioactivities_api = new_client.activity\n",
    "\n",
    "    # Initialize an empty list to store the bioactivity data for each compound\n",
    "    bioactivity_list = []\n",
    "\n",
    "    # Get the bioactivities\n",
    "    for index, row in tqdm(df.iterrows(), total=df.shape[0]):\n",
    "        bioactivities = bioactivities_api.filter(target_chembl_id=row[target_id_col]).only(\n",
    "                'target_chembl_id',\n",
    "                'molecule_chembl_id', 'canonical_smiles',\n",
    "                'assay_chembl_id', 'assay_type', 'activity_id', # \"assay_description\", #\"activity_comment\",\n",
    "                'type', 'relation\", \"standard_value', 'standard_units', 'pchembl_value', 'ligand_efficiency'\n",
    "                #\"comment\"     \n",
    "            )\n",
    "\n",
    "        # Create a dataframe from the query results\n",
    "        bioactivities_df = pd.DataFrame.from_records(bioactivities)\n",
    "        bioactivity_list.append(bioactivities_df)\n",
    "\n",
    "    bioactivity_df = pd.concat(bioactivity_list, ignore_index=True)\n",
    "\n",
    "    # Extract LE value \n",
    "    bioactivity_df['ligand_efficiency'] = bioactivity_df['ligand_efficiency'].apply(lambda x: x.get('le') if x is not None else None)\n",
    "\n",
    "    # Drop duplicates and reset index\n",
    "    bioactivity_df.drop_duplicates(keep=\"first\", inplace=True)\n",
    "    bioactivity_df.reset_index(inplace=True, drop=True)\n",
    "\n",
    "    # Rename columns\n",
    "    bioactivity_df.rename(columns={\n",
    "        'target_chembl_id'  : target_id_col,\n",
    "        'molecule_chembl_id': 'ChEMBL_Molecule_ID', \n",
    "        'canonical_smiles'  : 'SMILES',\n",
    "        'assay_chembl_id'   : 'ChEMBL_Assay_ID',\n",
    "        'assay_type'        : 'ChEMBL_Assay_Type',\n",
    "        'activity_id'       : 'ChEMBL_Activity_ID', \n",
    "        'type'              : 'ChEMBL_Activity_Type',\n",
    "        'relation'          : 'ChEMBL_Relation', \n",
    "        'standard_value'    : 'ChEMBL_Standard_Value', \n",
    "        'standard_units'    : 'ChEMBL_Standard_Unit', \n",
    "        'pchembl_value'     : 'pChEMBL_Value',\n",
    "        'ligand_efficiency' : 'Ligand_Efficiency'\n",
    "    }, inplace=True)\n",
    "\n",
    "    # Merge with the input df,  based on the target_id_col\n",
    "    return pd.merge(df, bioactivity_df, on=target_id_col, how='outer')"
   ]
  },
  {
   "cell_type": "code",
   "execution_count": null,
   "metadata": {},
   "outputs": [],
   "source": [
    "# Note that the run time per target ID highly depends on the number of compounds and bioactivity values associated, \n",
    "# and thus does not scale linearly. Rough estimate = 5 h !\n",
    "df = get_chembl_bioactivities(df, 'ChEMBL_Target_ID') \n",
    "df.to_excel(os.path.join(tmp_folder, 'ChEMBL_Kinases_Bioactivity_Data.xlsx'), index=False)\n",
    "# df.head()"
   ]
  },
  {
   "cell_type": "markdown",
   "metadata": {},
   "source": [
    "## Filter for molecules with a ligand efficiency (LE) >= 0.3 <br> and/or a pChEMBL value of >= 5.0 towards any kinase\n",
    "\n",
    "The **pChEMBL value** corresponds to the negative logarithm of the activity, reported as \n",
    "- \"standard_type\" = \"IC50\", \"XC50\", \"EC50\", \"AC50\", \"Ki\", \"Kd\", \"Potency\", \"ED50\"; \n",
    "- \"standard_relation\" == \"=\" \n",
    "- \"standard_units\" == \"nM\";  <br> \n",
    "\n",
    "A pChEMBL value of 5 thus equals an activity of 10 µM and a pChEMBL value of 9 equals an activity of 1 nM. <br>\n",
    "A commonly used cut-off for bioactive molecules is pChEMBL value > 5\n",
    "\n",
    "The **Ligand Efficiency (LE)** sets the activity into relation to the number of non-hydrogen atoms (NHA) <br>\n",
    "LE = -log(Activity) * 1.37 / NHA <br>\n",
    "\n",
    "Bento et  al. (2014) https://doi.org/10.1093/nar/gkt1031 <br>\n",
    " \"The ligand efficiencies are calculated on the standardized pChEMBL values\" <br>\n",
    "\n",
    "Schultes et al (2010)  https://doi.org/10.1016/j.ddtec.2010.11.003: <br>\n",
    "Application of ligand efficiency scores to FBDD: <br>\n",
    "- In general, an orally available clinical candidate possesses a potency of better than 10 nM and, if ‘Rule-of-Five’-compliant, a maximal molecular weight of 500 Da (which equals, on average, 38 HA). This means that a LE of at least 0.29 kcal mol−1 HA−1 needs to be maintained during hit optimization. \n",
    "-  For a ‘Rule-of-Three’-compliant fragment hit with less than 300 Da (that equals on average 23HA) this would result in  a LE of at least 0.36 kcal mol−1 HA−1."
   ]
  },
  {
   "cell_type": "code",
   "execution_count": null,
   "metadata": {},
   "outputs": [],
   "source": [
    "# Convert column values to numeric type\n",
    "df['Ligand_Efficiency'] = pd.to_numeric(df['Ligand_Efficiency'], errors='coerce')\n",
    "df['pChEMBL_Value'] = pd.to_numeric(df['pChEMBL_Value'], errors='coerce')\n",
    "\n",
    "# Filter for a ligand efficiency of >= 0.3 and/or a pChEMBL value of >= 5.0  towards any kinase, \n",
    "ChEMBL_df = df[(df['Ligand_Efficiency'] >= 0.3) | (df['pChEMBL_Value'] >= 5)]\n",
    "ChEMBL_df = ChEMBL_df.reset_index(drop=True)\n",
    "\n",
    "ChEMBL_df.to_excel(os.path.join(tmp_folder, 'ChEMBL_Kinases_Bioactivity_Data_Filtered.xlsx'), index=False)\n",
    "\n",
    "print(len(ChEMBL_df))"
   ]
  },
  {
   "cell_type": "markdown",
   "metadata": {},
   "source": [
    "## Retrieve more information on the assay\n",
    "**ChEMBL_Assay_Confidence_Score** <br> https://chembl.gitbook.io/chembl-interface-documentation/frequently-asked-questions/chembl-data-questions#what-is-the-confidence-score\n",
    "| CONFIDENCE_SCORE | DESCRIPTION                                                                 |\n",
    "|------------------|-----------------------------------------------------------------------------|\n",
    "| 0                | Default value - Target assignment has yet to be curated                     |\n",
    "| 1                | Target assigned is non-molecular                                            |\n",
    "| 3                | Target assigned is molecular non-protein target                             |\n",
    "| 4                | Multiple homologous protein targets may be assigned (e.g. a PROTEIN FAMILY) |\n",
    "| 5                | Multiple direct protein targets may be assigned (e.g. a PROTEIN FAMILY)     |\n",
    "| 6                | Homologous protein complex subunits assigned                                |\n",
    "| 7                | Direct protein complex subunits assigned                                    |\n",
    "| 8                | Homologous single protein target assigned                                   |\n",
    "| 9                | Direct single protein target assigned                                       |"
   ]
  },
  {
   "cell_type": "code",
   "execution_count": null,
   "metadata": {},
   "outputs": [],
   "source": [
    "def get_chembl_assay_info(df, assay_id_col):\n",
    "    \"\"\"\n",
    "    Retrieves more information on the assay from the ChEMBL via API.\n",
    "\n",
    "    Parameters:\n",
    "    - df (pandas DataFrame):  Input DataFrame containing the ChEMBL assay IDs.\n",
    "    - assay_id_col (str):     Column name in the input DataFrame containing the ChEMBL assay IDs.\n",
    "    \"\"\"\n",
    "\n",
    "    # Create a new assay API client\n",
    "    assay_api = new_client.assay\n",
    "\n",
    "    # Get more information for the current ChEMBL assay ID \n",
    "    assay_info = assay_api.get(assay_chembl_id=list(df[assay_id_col])).only(\n",
    "        \"assay_chembl_id\", \"confidence_score\", \"confidence_description\", \"description\") \n",
    "\n",
    "    # Create a dataframe from the retrieved info\n",
    "    assay_df = pd.DataFrame.from_records(list(tqdm(assay_info)))\n",
    "\n",
    "    # Drop duplicates and reset index\n",
    "    assay_df.drop_duplicates(keep=\"first\", inplace=True)\n",
    "    assay_df.reset_index(drop=True, inplace=True)\n",
    "\n",
    "    # Rename columns\n",
    "    assay_df.rename(columns={\n",
    "        'assay_chembl_id'        :  assay_id_col,\n",
    "        'confidence_score'       : 'ChEMBL_Assay_Confidence_Score',\n",
    "        'confidence_description' : 'ChEMBL_Assay_Confidence_Description',\n",
    "        'description'            : 'ChEMBL_Assay_Description'\n",
    "        }, inplace=True)\n",
    "\n",
    "    # Merge with the input df, based on the target_id_col and return the merge DataFrame\n",
    "    return pd.merge(df, assay_df, on=assay_id_col, how='outer')"
   ]
  },
  {
   "cell_type": "code",
   "execution_count": null,
   "metadata": {},
   "outputs": [],
   "source": [
    "ChEMBL_df = get_chembl_assay_info(ChEMBL_df, 'ChEMBL_Assay_ID') \n",
    "\n",
    "print(ChEMBL_df['ChEMBL_Assay_Confidence_Score'].value_counts())\n",
    "print(ChEMBL_df['ChEMBL_Assay_Confidence_Description'].value_counts())"
   ]
  },
  {
   "cell_type": "markdown",
   "metadata": {},
   "source": [
    "## Filter for ChEMBL_Assay_Confidence_Score == 9"
   ]
  },
  {
   "cell_type": "code",
   "execution_count": null,
   "metadata": {},
   "outputs": [],
   "source": [
    "# Filter for ChEMBL_Assay_Confidence_Score = 9 (Direct single protein target assigned) only\n",
    "ChEMBL_df = ChEMBL_df[ChEMBL_df['ChEMBL_Assay_Confidence_Score'] == 9]\n",
    "\n",
    "# Drop columns\n",
    "ChEMBL_df = ChEMBL_df.drop(columns=['ChEMBL_Assay_Confidence_Score', 'ChEMBL_Assay_Confidence_Description'])\n",
    "\n",
    "# Save to file\n",
    "ChEMBL_df.to_excel(os.path.join(tmp_folder, 'ChEMBL_Kinases_Bioactivity_Data_Filtered.xlsx'), index=False)"
   ]
  },
  {
   "cell_type": "markdown",
   "metadata": {},
   "source": [
    "# Retrieve more information on the cmpds"
   ]
  },
  {
   "cell_type": "code",
   "execution_count": null,
   "metadata": {},
   "outputs": [],
   "source": [
    "def get_chembl_cmpd_infos(df, molecule_id_column):\n",
    "    \"\"\"\n",
    "    Get more information on each compound in the input DataFrame and append to the latter.\n",
    "\n",
    "    Parameters:\n",
    "    - df (pandas DataFrame): Input DataFrame containing the compounds ChEMBL IDs.\n",
    "    - molecule_id_col (str): Column name in the input DataFrame containing the ChEMBL Molecule IDs\n",
    "\n",
    "    \"\"\"\n",
    "    # Create a new API client\n",
    "    molecule_api = new_client.molecule\n",
    "    \n",
    "    # Get the cmpd infos\n",
    "    molecule_info = molecule_api.filter(\n",
    "        molecule_chembl_id__in=list(df[molecule_id_column])).only(\n",
    "            \"molecule_chembl_id\", \"pref_name\", \"molecule_type\")\n",
    "\n",
    "    # Create a dataframe from the retrieved cmpd info\n",
    "    compounds_df = pd.DataFrame.from_records(list(tqdm(molecule_info)))\n",
    "    \n",
    "    # Rename the columns\n",
    "    compounds_df.rename(columns={\n",
    "        \"molecule_chembl_id\"  : molecule_id_column,\n",
    "        \"pref_name\"           : \"Molecule_Name\", \n",
    "        \"molecule_type\"       : \"Molecule_Type\", \n",
    "        }, inplace=True)\n",
    "    \n",
    "    # Merge the new dataframe with the input dataframe and return\n",
    "    return pd.merge(df, compounds_df, on=molecule_id_column, how='outer')\n",
    "\n",
    "# Run time approx. 45 min\n",
    "ChEMBL_df = get_chembl_cmpd_infos(ChEMBL_df, 'ChEMBL_Molecule_ID') \n",
    "ChEMBL_df.head(1)"
   ]
  },
  {
   "cell_type": "markdown",
   "metadata": {},
   "source": [
    "## Filter for molecules of type 'Small molecule' or 'Unknown'"
   ]
  },
  {
   "cell_type": "code",
   "execution_count": null,
   "metadata": {},
   "outputs": [],
   "source": [
    "# Print, which types of molecules are present\n",
    "ChEMBL_df['Molecule_Type'].unique()\n",
    "\n",
    "# Filter for molecules of type 'Small molecule' or 'Unknown' \n",
    "ChEMBL_df = ChEMBL_df[ChEMBL_df['Molecule_Type'].isin(['Small molecule', 'Unknown'])]"
   ]
  },
  {
   "cell_type": "code",
   "execution_count": null,
   "metadata": {},
   "outputs": [],
   "source": [
    "ChEMBL_df.to_excel(os.path.join(filepath, 'ChEMBL_AllKinases_Molecule_Data.xlsx'), index=False)"
   ]
  },
  {
   "cell_type": "markdown",
   "metadata": {},
   "source": [
    "# Group by Molecule"
   ]
  },
  {
   "cell_type": "code",
   "execution_count": null,
   "metadata": {},
   "outputs": [],
   "source": [
    "# Group the dataframe by the ChEMBL Molecule ID \n",
    "# Aggregate the values in all other columns to list\n",
    "ChEMBL_df = ChEMBL_df.groupby(['ChEMBL_Molecule_ID']).agg({\n",
    "  'ChEMBL_Molecule_ID': 'first', \n",
    "  'SMILES'            : 'first', \n",
    "  'Molecule_Type'     : 'first',\n",
    "  'Molecule_Name'     : 'first',\n",
    "  **{col: list for col in ChEMBL_df.columns.to_list() if col not in ['ChEMBL_Molecule_ID', 'SMILES', 'Molecule_Type', 'Molecule_Name']} \n",
    "  }).reset_index(drop=True)\n",
    "\n",
    "# Count how many unique ChEMBL Target IDs are reported per molecule. Sort descending by the Target_Count\n",
    "ChEMBL_df['Target_Count'] = ChEMBL_df['ChEMBL_Target_ID'].apply(lambda x: len(set(x)))\n",
    "ChEMBL_df = ChEMBL_df.sort_values('Target_Count', ascending=False).reset_index(drop=True)\n",
    "\n",
    "print(len(ChEMBL_df))\n",
    "ChEMBL_df.head(1)"
   ]
  },
  {
   "cell_type": "code",
   "execution_count": null,
   "metadata": {},
   "outputs": [],
   "source": [
    "try: \n",
    "    PandasTools.AddMoleculeColumnToFrame(ChEMBL_df, smilesCol=\"SMILES\", molCol='2D_Mol')\n",
    "except: \n",
    "    ChEMBL_df['2D_Mol'] = None\n",
    "\n",
    "# Drop rows, for which no molecule could be generated \n",
    "ChEMBL_df = ChEMBL_df[ChEMBL_df['2D_Mol'] != None]\n",
    "ChEMBL_df = ChEMBL_df.reset_index(drop=True)"
   ]
  },
  {
   "cell_type": "code",
   "execution_count": null,
   "metadata": {},
   "outputs": [],
   "source": [
    "ChEMBL_df.copy().drop(['2D_Mol'], axis=1).to_excel(os.path.join(filepath, 'ChEMBL_AllKinases_Molecule_Data_Grouped.xlsx'), index=False)\n",
    "\n",
    "print(f\"Number of bioactive molecules (before molecular standardization) = {len(ChEMBL_df)} as of {date}\")"
   ]
  },
  {
   "cell_type": "code",
   "execution_count": null,
   "metadata": {},
   "outputs": [],
   "source": [
    "# Show molecules that have no type assigned\n",
    "print(ChEMBL_df['Molecule_Type'].value_counts())\n",
    "ChEMBL_df[ChEMBL_df['Molecule_Type'] == 'Unknown']"
   ]
  },
  {
   "cell_type": "markdown",
   "metadata": {},
   "source": [
    "# Distributions and Value Counts"
   ]
  },
  {
   "cell_type": "markdown",
   "metadata": {},
   "source": [
    "## Number of different kinase targets reported for a cmpd"
   ]
  },
  {
   "cell_type": "code",
   "execution_count": null,
   "metadata": {},
   "outputs": [],
   "source": [
    "ChEMBL_df['Target_Count'].plot(kind='hist', logy=True, bins=270)\n",
    "plt.ylabel('Number of different Kinase Targets')\n",
    "plt.xlabel('Number of Compounds')\n",
    "plt.show\n",
    "plt.savefig(f'Analysis/ChEMBL_Kinases/Histogram_Number_of_Kinase_Targets_per_Compound.png')"
   ]
  },
  {
   "cell_type": "markdown",
   "metadata": {},
   "source": [
    "## pIC50 value distribution"
   ]
  },
  {
   "cell_type": "code",
   "execution_count": null,
   "metadata": {},
   "outputs": [],
   "source": [
    "# # Extract the maximal pChEMBL value reported for a compounds, towards any kinase\n",
    "# ChEMBL_df['Max_pChEMBL_Value'] = ChEMBL_df['pChEMBL_Value'].apply(lambda x: max(x))\n",
    "\n",
    "# # Plot pIC50 value distribution \n",
    "# plt.hist(ChEMBL_df['Max_pChEMBL_Value'], bins=50, edgecolor='black')\n",
    "# plt.xlabel('Max pChEMBL value for the compound across all kinase targets.')\n",
    "# plt.ylabel('Frequency')\n",
    "# plt.yticks(np.arange(plt.ylim()[0], plt.ylim()[1], 1))\n",
    "# plt.savefig(\"Analysis/ChEMBL_Kinases/Histogram_pChEMBL_Value_Distribution.png\")"
   ]
  },
  {
   "cell_type": "markdown",
   "metadata": {},
   "source": [
    "## LE distribution"
   ]
  },
  {
   "cell_type": "code",
   "execution_count": null,
   "metadata": {},
   "outputs": [],
   "source": [
    "# # Extract the maximal Ligand Efficiency value reported for a compounds, towards any kinase\n",
    "# ChEMBL_df['Max_Ligand_Efficiency'] = ChEMBL_df['Ligand_Efficiency'].apply(lambda x: max(x))\n",
    "\n",
    "# # Plot Ligand Efficiency value distribution \n",
    "# plt.hist(ChEMBL_df['Max_Ligand_Efficiency'], bins=50, edgecolor='black')\n",
    "# plt.xlabel('Max Ligand Efficiency for the compound across all kinase targets.')\n",
    "# plt.ylabel('Frequency')\n",
    "# plt.yticks(np.arange(plt.ylim()[0], plt.ylim()[1], 1))\n",
    "# plt.savefig(\"Analysis/ChEMBL_Kinases/Histogram_Ligand_Efficiency_Value_Distribution.png\")"
   ]
  }
 ],
 "metadata": {
  "kernelspec": {
   "display_name": "Python 3",
   "language": "python",
   "name": "python3"
  },
  "language_info": {
   "codemirror_mode": {
    "name": "ipython",
    "version": 3
   },
   "file_extension": ".py",
   "mimetype": "text/x-python",
   "name": "python",
   "nbconvert_exporter": "python",
   "pygments_lexer": "ipython3",
   "version": "3.10.13"
  }
 },
 "nbformat": 4,
 "nbformat_minor": 2
}
