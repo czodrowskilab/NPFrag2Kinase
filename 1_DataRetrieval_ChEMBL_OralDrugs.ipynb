{
 "cells": [
  {
   "cell_type": "code",
   "execution_count": null,
   "metadata": {},
   "outputs": [],
   "source": [
    "# General python libraries and packages\n",
    "import pandas as pd\n",
    "from tqdm.auto import tqdm\n",
    "import warnings\n",
    "warnings.filterwarnings('ignore')\n",
    "import os\n",
    "\n",
    "# Accessing Databases\n",
    "from chembl_webresource_client.new_client import new_client\n",
    "\n",
    "# Data Visualization\n",
    "import matplotlib.pyplot as plt\n",
    "\n",
    "# Processing chemical data\n",
    "from rdkit.Chem import PandasTools, Draw"
   ]
  },
  {
   "cell_type": "markdown",
   "metadata": {},
   "source": [
    "# Retrieve approved oral drugs from ChEMBL \n",
    "via API\n",
    "\n",
    "**What is a ‘drug’ or a ‘clinical candidate drug’ in ChEMBL? And how does this differ from a compound?** <br>\n",
    "https://chembl.gitbook.io/chembl-interface-documentation/frequently-asked-questions/drug-and-compound-questions\n",
    "\n",
    "The **maximum phase of development** for the compound across all indications is assigned a category called 'max_phase' <br>\n",
    "max_phase = 4: A marketed drug.  <br>\n",
    "https://chembl.gitbook.io/chembl-interface-documentation/frequently-asked-questions/drug-and-compound-questions#what-is-max-phase <br>\n",
    "By contrast, the 'max_phase_for_ind' field in the 'drug_indication' table in the downloadable ChEMBL database contains the maximum phase of development for the drug or clinical candidate drug for a specified indication. \n"
   ]
  },
  {
   "cell_type": "code",
   "execution_count": null,
   "metadata": {},
   "outputs": [],
   "source": [
    "def get_oral_drugs_from_chembl():\n",
    "\n",
    "    # Create a new API client\n",
    "    compounds_api = new_client.molecule\n",
    "    \n",
    "    # Get the cmpd infos\n",
    "    # Filter for organic small molecules in clinical phase 4 (= approved drugs, not withdrawn)  \n",
    "    # that are orally administered and are not a prodrug\n",
    "    cmpd_info = compounds_api.filter(max_phase=4, oral=True, molecule_type='Small molecule', \n",
    "                                     withdrawn_flag=False, inorganic_flag=0, prodrug=0,\n",
    "                                    ).only('pref_name', 'molecule_chembl_id', \n",
    "                                           'first_approval', 'indication_class', \n",
    "                                           'molecule_structures', 'canonical_smiles', 'natural_product', \n",
    "                                           #'molecule_type', 'max_phase', 'withdrawn_flag', 'inorganic_flag', 'prodrug'\n",
    "                                    ).order_by('pref_name')\n",
    "\n",
    "    # Create a dataframe from the retrieved cmpd info\n",
    "    oral_drugs_df = pd.DataFrame.from_records(list(tqdm(cmpd_info)))\n",
    "    \n",
    "    # Rename the columns\n",
    "    oral_drugs_df.rename(columns={'pref_name'         : 'Drug_Name',\n",
    "                                 'molecule_chembl_id' : 'ChEMBL_Molecule_ID',\n",
    "                                 'first_approval'     : 'Year_of_First_Approval',\n",
    "                                 'indication_class'   : 'Indication', \n",
    "                                 'canonical_smiles'   : 'SMILES',\n",
    "                                 'natural_product'    : 'NP'\n",
    "                                 }, inplace=True)\n",
    "    \n",
    "    # Extract the SMILES from the dictionary of molecular representations\n",
    "    oral_drugs_df['SMILES'] = oral_drugs_df['molecule_structures'].apply(lambda x: x.get('canonical_smiles') if isinstance(x, dict) else None)\n",
    "    oral_drugs_df.drop('molecule_structures', axis=1, inplace=True)\n",
    "\n",
    "    # Remove all molecules without a canonical SMILES\n",
    "    oral_drugs_df.dropna(axis=0, subset='SMILES', inplace=True)\n",
    "\n",
    "    print(len(oral_drugs_df))\n",
    "\n",
    "    return oral_drugs_df\n",
    "\n",
    "oral_drugs_df = get_oral_drugs_from_chembl() \n",
    "\n",
    "oral_drugs_df.head(1)"
   ]
  },
  {
   "cell_type": "code",
   "execution_count": null,
   "metadata": {},
   "outputs": [],
   "source": [
    "# Convert the strings into title format (instead of all upper case)\n",
    "oral_drugs_df['Drug_Name'] = oral_drugs_df['Drug_Name'].str.title()"
   ]
  },
  {
   "cell_type": "code",
   "execution_count": null,
   "metadata": {},
   "outputs": [],
   "source": [
    "# Remove compounds UREA C 13 and UREA C 14, as identified from manual data inspection\n",
    "# Note, that UREA itself is also included in the data\n",
    "oral_drugs_df = oral_drugs_df[~oral_drugs_df['Drug_Name'].isin(['Urea C 13', 'Urea C 14'])]\n",
    "oral_drugs_df = oral_drugs_df.reset_index(drop=True)\n",
    "print(len(oral_drugs_df))"
   ]
  },
  {
   "cell_type": "code",
   "execution_count": null,
   "metadata": {},
   "outputs": [],
   "source": [
    "filepath = os.path.join('Data', 'ChEMBL_Oral_Drugs')\n",
    "oral_drugs_df.to_excel(os.path.join(filepath, 'ChEMBL_Oral_Drugs.xlsx'), index=False)"
   ]
  },
  {
   "cell_type": "code",
   "execution_count": null,
   "metadata": {},
   "outputs": [],
   "source": [
    "PandasTools.AddMoleculeColumnToFrame(oral_drugs_df, smilesCol='SMILES', molCol='2D_Mol')\n",
    "PandasTools.RenderImagesInAllDataFrames(images=True)\n",
    "oral_drugs_df.head()"
   ]
  },
  {
   "cell_type": "markdown",
   "metadata": {},
   "source": [
    "Please note that drugs may appear multiple times in this DataFrame, <br>\n",
    "depending on the protonation/charge state, the presence/type of a counter ion, alternative from as a hydrochloride, etc.  <br>\n",
    "=> **Molecule Standardization and Preparation** in the next step!"
   ]
  },
  {
   "cell_type": "code",
   "execution_count": null,
   "metadata": {},
   "outputs": [],
   "source": []
  }
 ],
 "metadata": {
  "kernelspec": {
   "display_name": "Python 3",
   "language": "python",
   "name": "python3"
  },
  "language_info": {
   "codemirror_mode": {
    "name": "ipython",
    "version": 3
   },
   "file_extension": ".py",
   "mimetype": "text/x-python",
   "name": "python",
   "nbconvert_exporter": "python",
   "pygments_lexer": "ipython3",
   "version": "3.10.13"
  }
 },
 "nbformat": 4,
 "nbformat_minor": 2
}
