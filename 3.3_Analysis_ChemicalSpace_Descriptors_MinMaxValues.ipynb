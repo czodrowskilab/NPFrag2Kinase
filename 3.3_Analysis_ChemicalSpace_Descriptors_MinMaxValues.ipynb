{
 "cells": [
  {
   "cell_type": "code",
   "execution_count": 1,
   "metadata": {},
   "outputs": [],
   "source": [
    "# Import libraries\n",
    "import pandas as pd\n",
    "pd.set_option('display.max_columns', None)\n",
    "import os"
   ]
  },
  {
   "cell_type": "code",
   "execution_count": 2,
   "metadata": {},
   "outputs": [],
   "source": [
    "def build_full_path(insilico      = False, protbound       = False, \n",
    "                    ATP_site_only = False, peripheral_only = False, \n",
    "                    Ro5_Filtering = False, Ro3_Filtering   = False,): \n",
    "    \n",
    "    \"\"\"\n",
    "    Parameters:\n",
    "    insilico        (bool):            Use the descriptors computed from the in silico generated conformation(s).\n",
    "    protbound       (bool):            Use the descriptors computed from the protein-bound conformation(s).\n",
    "    ATP_site_only   (bool. optional):  Optionally filter for ATP site ligands only.   Defaults to False.\n",
    "    peripheral_only (bool, optional):  Optionally filter for peripheral ligands only. Defaults to False.\n",
    "    Ro5_Filtering   (bool, optional):  Optionally filter by Ro5 criteria. Defaults to False.\n",
    "    Ro3_Filtering   (bool, optional):  Optionally filter by Ro3 criteria. Defaults to False.\n",
    "    \"\"\"\n",
    "    \n",
    "# in silico generated OR protein bound \n",
    "    parent_folder = os.path.join('Analysis', 'Descriptors')\n",
    "    if insilico == True and protbound == False:\n",
    "        path = os.path.join(parent_folder, 'in_silico_Generated_Conformations')\n",
    "    elif protbound == True and insilico == False: \n",
    "        path = os.path.join(parent_folder, 'Protein_Bound_Conformations')\n",
    "    else: \n",
    "        print(\"Set either insilico or protbound parameter to 'True'.\")\n",
    "\n",
    "# Optionally: Filter for ATP-Site ligands only\n",
    "    if ATP_site_only == True and peripheral_only == False:\n",
    "        folder = 'ATPsite'\n",
    "# Optionally: Filter for peripheral ligands only\n",
    "    elif peripheral_only == True and ATP_site_only == False:\n",
    "        folder = 'Peripheral'\n",
    "    else:\n",
    "        folder = 'Binding_site_agnostic'\n",
    "\n",
    "# Optionally: Filter for Ro5-compliant molecules only \n",
    "    if Ro5_Filtering == True: \n",
    "        subfolder = \"Ro5\"\n",
    "\n",
    "# Optionally: Filter for Ro5-compliant molecules only \n",
    "    if Ro3_Filtering == True: \n",
    "        subfolder = \"Ro3\"\n",
    "    else: \n",
    "        subfolder = \"All\"\n",
    "\n",
    "# Build the full path \n",
    "    full_path = os.path.join(os.path.join(path, folder), subfolder)\n",
    "\n",
    "    # If the directory does not exist yet, create it\n",
    "    if not os.path.exists(full_path):\n",
    "        print(\"Path does not exist.\")\n",
    "\n",
    "    print(f\"Working directory = {full_path}\")  \n",
    "\n",
    "    return full_path"
   ]
  },
  {
   "cell_type": "markdown",
   "metadata": {},
   "source": [
    "# ADJUST HERE FOR THE DIFFERENT VARIANTS\n"
   ]
  },
  {
   "cell_type": "code",
   "execution_count": 3,
   "metadata": {},
   "outputs": [
    {
     "name": "stdout",
     "output_type": "stream",
     "text": [
      "Working directory = Analysis/Descriptors/in_silico_Generated_Conformations/Binding_site_agnostic/All\n"
     ]
    }
   ],
   "source": [
    "full_path = build_full_path(insilico      = True, protbound      = False, \n",
    "                            ATP_site_only = False, peripheral_only = False, \n",
    "                            Ro5_Filtering = False, Ro3_Filtering   = False)"
   ]
  },
  {
   "cell_type": "code",
   "execution_count": 4,
   "metadata": {},
   "outputs": [],
   "source": [
    "# Read in descriptor data\n",
    "cols = ['Dataset', 'ID', 'NP-Likeness', 'Fsp3', 'FCStereo', 'nSPS', 'nPBF', 'ΣNPR']\n",
    "df = pd.read_excel(os.path.join(full_path, 'Averaged_Descriptor_Values.xlsx'), usecols = cols)"
   ]
  },
  {
   "cell_type": "code",
   "execution_count": 5,
   "metadata": {},
   "outputs": [],
   "source": [
    "def print_minmax_values(datasets = df['Dataset'].unique(), i=7, ascending=False, filename=None):\n",
    "    filepath = os.path.join(full_path, filename)\n",
    "    with open(filepath, 'w') as f:\n",
    "        for dataset in datasets:\n",
    "            temp_df = df[df['Dataset'] == dataset].reset_index(drop=True)\n",
    "            for desc in ['NP-Likeness', 'Fsp3', 'FCStereo', 'nSPS', 'nPBF', 'ΣNPR']: \n",
    "                temp_df_ = temp_df[['ID', desc]].reset_index(drop=True)\n",
    "                temp_df_ = temp_df_.sort_values(by=[desc, 'ID'], ascending=ascending).reset_index(drop=True)\n",
    "                temp_df_ = temp_df_.head(i)\n",
    "                temp_df_[desc] = temp_df_[desc].apply(lambda x: f\"({x:.3f})\")\n",
    "\n",
    "                f.write(f\"\\n\\n\\n{dataset}\\n\")\n",
    "                f.write(temp_df_.to_string(index=False))\n",
    "                f.write(\"\\n\")"
   ]
  },
  {
   "cell_type": "markdown",
   "metadata": {},
   "source": [
    "# Write max. values to .txt file"
   ]
  },
  {
   "cell_type": "code",
   "execution_count": 6,
   "metadata": {},
   "outputs": [],
   "source": [
    "print_minmax_values(i=7, ascending=False, filename=\"Max_Descriptor_Values.txt\")"
   ]
  },
  {
   "cell_type": "markdown",
   "metadata": {},
   "source": [
    "# Write min. values to .txt file"
   ]
  },
  {
   "cell_type": "code",
   "execution_count": 7,
   "metadata": {},
   "outputs": [],
   "source": [
    "print_minmax_values(i=7, ascending=True, filename=\"Min_Descriptor_Values.txt\")"
   ]
  }
 ],
 "metadata": {
  "kernelspec": {
   "display_name": "chemspace",
   "language": "python",
   "name": "python3"
  },
  "language_info": {
   "codemirror_mode": {
    "name": "ipython",
    "version": 3
   },
   "file_extension": ".py",
   "mimetype": "text/x-python",
   "name": "python",
   "nbconvert_exporter": "python",
   "pygments_lexer": "ipython3",
   "version": "3.10.13"
  }
 },
 "nbformat": 4,
 "nbformat_minor": 2
}
